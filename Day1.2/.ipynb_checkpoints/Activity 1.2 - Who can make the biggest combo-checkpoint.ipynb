{
 "cells": [
  {
   "cell_type": "markdown",
   "metadata": {},
   "source": [
    "# Supplimental Activity 1.2 - Who Can Make the Biggest Combo??\n",
    "\n",
    "We're going to play with combo attacks like in the lesson this morning, but first there is one more thing we need to learn.\n",
    "\n",
    "Python is a very well supported language, and its open source. This means many other people have already made lots and lots of code to do many useful things. We can use their code with a simple command:\n",
    "\n",
    "`import module`\n",
    "\n",
    "The `import` function allows us to access the objects and methods within the module we're importing using the `.` command. Calling an object or method from an imported module looks like this:\n",
    "\n",
    "`module.object`<br/>\n",
    "`module.method()`\n",
    "\n",
    "You can also give a module a knickname when you import it. That looks like this:\n",
    "\n",
    "`import module as carl`\n",
    "\n",
    "Now, to call and object or method from the module, I use the nickname instead of the module name:\n",
    "\n",
    "`carl.object`<br/>\n",
    "`carl.method()`\n",
    "\n",
    "Lastly, we can input specific objects or functions from a module by using the following syntax:\n",
    "\n",
    "`from module import object, function`\n",
    "\n",
    "We'll learn about the differences between these later, but first, we will be using import to carry out today's activity. We will be importing a module I made for today's activity called `comboActivity` and creating a `combo_tester` instance of the ComboActivity object. The import statement is below:"
   ]
  },
  {
   "cell_type": "code",
   "execution_count": null,
   "metadata": {},
   "outputs": [],
   "source": [
    "#Execute this line of code first\n",
    "from comboActivity import ComboActivity #you may decide to give this module a nickname if you'd like\n",
    "combo_tester = ComboActivity()"
   ]
  },
  {
   "cell_type": "markdown",
   "metadata": {},
   "source": [
    "**IMPORTANT:** Do not open the `comboActivity` module (comboActivity.py) unless you like spoilers and hate learning and fun."
   ]
  },
  {
   "cell_type": "markdown",
   "metadata": {},
   "source": [
    "## Making Your Combos\n",
    "\n",
    "We're going to see who can put together the best combo attacks for a Swordsman, an Archer, and a Wizard. We've imported the module necessary to execute todays activity. It contains 3 tuples with possible attacks. They are called:\n",
    "\n",
    "1. `swordsmanAttacks`\n",
    "2. `archerAttacks`\n",
    "3. `wizardAttacks`\n",
    "\n",
    "Your job is to figure out what kinds of attacks a swordsman, archer, and wizard can perform, then combine these attacks into combos no bigger than 5 attacks long.\n",
    "\n",
    "Once you've made a combo, test it out on the Practice Dummy. To test your combos, put them into the parenthesis of `comboActivity.practice_dummy()`\n",
    "\n",
    "<img src = \"./ArtAssets2/practiceDummy.png\" width = 400>\n",
    "\n",
    "If you put in a bad combo, the code will tell you what you did wrong. If you get an error, ask the TA for help.\n",
    "\n",
    "At the end, when you are satisfied that your combos do the most damage possible, save them into a dictionary variable of your name, and the keys `\"swordsman_combo\"`, `\"archer)combo\"`, `\"wizard_combo\"`.\n",
    "\n",
    "Before class tomorrow, we will test to see who's combo does the most damage!\n",
    "\n",
    "Good luck!"
   ]
  },
  {
   "cell_type": "code",
   "execution_count": null,
   "metadata": {},
   "outputs": [],
   "source": [
    "example_combo = [combo_tester.swordsman_attacks[0]]\n",
    "#Create your combos here"
   ]
  },
  {
   "cell_type": "code",
   "execution_count": null,
   "metadata": {},
   "outputs": [],
   "source": [
    "print(example_combo)"
   ]
  },
  {
   "cell_type": "code",
   "execution_count": null,
   "metadata": {},
   "outputs": [],
   "source": [
    "#Instert your combos into the parenthesis below\n",
    "combo_tester.practice_dummy(example_combo)"
   ]
  }
 ],
 "metadata": {
  "kernelspec": {
   "display_name": "Python 3",
   "language": "python",
   "name": "python3"
  },
  "language_info": {
   "codemirror_mode": {
    "name": "ipython",
    "version": 3
   },
   "file_extension": ".py",
   "mimetype": "text/x-python",
   "name": "python",
   "nbconvert_exporter": "python",
   "pygments_lexer": "ipython3",
   "version": "3.8.3"
  }
 },
 "nbformat": 4,
 "nbformat_minor": 2
}

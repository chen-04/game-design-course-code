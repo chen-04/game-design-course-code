{
 "cells": [
  {
   "cell_type": "code",
   "execution_count": null,
   "metadata": {},
   "outputs": [],
   "source": [
    "import numpy as np\n",
    "\n",
    "loop = True\n",
    "\n",
    "while loop is True:\n",
    "\n",
    "    player_choice = input(\"Pick one: (rock, paper, or scissors). \")\n",
    "    choices = ['rock', 'paper', 'scissors']\n",
    "    random_choices = np.random.randint(0,3)\n",
    "    ai_choice = choices[random_choices]\n",
    "\n",
    "    win_message = \"You win!\"\n",
    "    lose_message = \"You lose.\"\n",
    "    tie_message = \"tie.\"\n",
    "\n",
    "    try:\n",
    "        if player_choice not in ['rock','paper','scissors']:\n",
    "            raise Exception('error')\n",
    "    except Exception as e:\n",
    "        print(\"The player hasn't chosen an allowed input!\")\n",
    "\n",
    "    else:\n",
    "        print(\"Now we can play rock, paper, scissors!\")\n",
    "        print(\"The player chose \" + str(player_choice))\n",
    "        print(\"The ai chose \" + ai_choice)\n",
    "\n",
    "        if(player_choice == 'rock'):\n",
    "            if (ai_choice == 'scissors'):\n",
    "                print(win_message)\n",
    "            elif (ai_choice == 'rock'):\n",
    "                print(tie_message)\n",
    "            else:\n",
    "                print(lose_message)\n",
    "\n",
    "        elif(player_choice == 'scissors'):\n",
    "            if (ai_choice == 'paper'):\n",
    "                print(win_message)\n",
    "            elif (ai_choice == 'scissors'):\n",
    "                print(tie_message)\n",
    "            else:\n",
    "                print(lose_message)\n",
    "\n",
    "        else:\n",
    "            if (ai_choice == 'rock'):\n",
    "                print(win_message)\n",
    "            elif (ai_choice == 'paper'):\n",
    "                print(tie_message)\n",
    "            else:\n",
    "                print(lose_message)\n",
    "    finally: \n",
    "        play_again = input(\"Play again? Yes/No \")\n",
    "        if (play_again == 'No'):\n",
    "            loop = False\n",
    "            \n",
    "    "
   ]
  },
  {
   "cell_type": "code",
   "execution_count": null,
   "metadata": {},
   "outputs": [],
   "source": [
    "print(tuple(\"Surprise!\"))"
   ]
  },
  {
   "cell_type": "code",
   "execution_count": null,
   "metadata": {},
   "outputs": [],
   "source": []
  }
 ],
 "metadata": {
  "kernelspec": {
   "display_name": "Python 3",
   "language": "python",
   "name": "python3"
  },
  "language_info": {
   "codemirror_mode": {
    "name": "ipython",
    "version": 3
   },
   "file_extension": ".py",
   "mimetype": "text/x-python",
   "name": "python",
   "nbconvert_exporter": "python",
   "pygments_lexer": "ipython3",
   "version": "3.8.3"
  }
 },
 "nbformat": 4,
 "nbformat_minor": 4
}

{
 "cells": [
  {
   "cell_type": "markdown",
   "metadata": {},
   "source": [
    "# Activity 1.3 - The Heist\n",
    "\n",
    "Welcome to the Heist!! You are attempting to hack into a vault containing a powerful secret... You will be given a series of tasks to complete using the coding principles we've gone over in class. Successful completion of each task will yield a character of the vault's access key. There are 4 characters to unlock, and they will not be given to you in the correct order."
   ]
  },
  {
   "cell_type": "markdown",
   "metadata": {},
   "source": [
    "<img src=\"ArtAssets3/hack.jpg\">"
   ]
  },
  {
   "cell_type": "markdown",
   "metadata": {},
   "source": [
    "Once you have the access key, you must enter it into the vault by using the following command:\n",
    "\n",
    "`heist.access(password)`\n",
    "\n",
    "Where you replace the word password in the parenthesis with your attempt. In fact, we will be passing variables into methods like this multiple times throughout the challenge.\n",
    "\n",
    "Will you be the first group to finish and unlock the vault's secret???"
   ]
  },
  {
   "cell_type": "markdown",
   "metadata": {},
   "source": [
    "## Getting Started\n",
    "\n",
    "**DO NOT OPEN ANY OF THE .py FILES!**\n",
    "\n",
    "I've organized this page for you with different blocks for each task. One is a place for you to take notes, and the other is a place to run your code.\n",
    "\n",
    "I've given you the code to gain access to the system. Run the line below to hack in and get started."
   ]
  },
  {
   "cell_type": "code",
   "execution_count": 1,
   "metadata": {},
   "outputs": [
    {
     "name": "stdout",
     "output_type": "stream",
     "text": [
      "\n",
      "Welcome to the Heist!! You are attempting to hack into a vault containing a powerful secret...\n",
      "You will be given a series of tasks to complete using the coding principles we've gone over in class.\n",
      "\n",
      "Successful completion of each task will yield a character of the vault's access key. They are not given in order.\n",
      "Once you have collected all 4 characters, you must find the correct order of them to access the vault and complete the hack.\n",
      "\n",
      "For initializing the first system, you will be rewarded a character.\n",
      ".\n",
      "\n",
      ".\n",
      "\n",
      ".\n",
      "\n",
      "The first character is &\n",
      "\n",
      "To access the next task, enter the following command: heist.loops.start()\n"
     ]
    }
   ],
   "source": [
    "import _src.heist as heist\n",
    "heist.start()"
   ]
  },
  {
   "cell_type": "markdown",
   "metadata": {},
   "source": [
    "### Task 2:\n",
    "\n",
    "**Notes:**"
   ]
  },
  {
   "cell_type": "code",
   "execution_count": 15,
   "metadata": {},
   "outputs": [
    {
     "name": "stdout",
     "output_type": "stream",
     "text": [
      "This firewall can be surpassed by brute force. To do so, you must call the following function 1001 times:\n",
      "\n",
      "hack()\n",
      "\n",
      "However, you must figure out the proper syntax for calling this function. Good Luck!\n"
     ]
    }
   ],
   "source": [
    "heist.loops.start()"
   ]
  },
  {
   "cell_type": "code",
   "execution_count": 17,
   "metadata": {},
   "outputs": [
    {
     "name": "stdout",
     "output_type": "stream",
     "text": [
      "For your next task, run heist.numberPatch.start()\n"
     ]
    }
   ],
   "source": [
    "import _src.heist as heist\n",
    "import _src.looper as looper\n",
    "for i in range(0,1):\n",
    "    heist.loops.hack()"
   ]
  },
  {
   "cell_type": "markdown",
   "metadata": {},
   "source": [
    "### Task 3: \n",
    "\n",
    "**Notes:**"
   ]
  },
  {
   "cell_type": "code",
   "execution_count": 18,
   "metadata": {},
   "outputs": [
    {
     "name": "stdout",
     "output_type": "stream",
     "text": [
      "This task is a bit more tricky... We have 8 numbers in a list that should all be the same, but one of them is bigger than the others.\n",
      "You must determine which of these numbers is the biggest, and you can only do so by comparing the sums of other numbers a maximium of 2 times before the system resets.\n",
      "If you select the wrong number, the system will lock you out for 1 minute before reseting to try again.\n",
      "To compare sums, you must enter the indices of the numbers in the list you wish to add for the first sum, then again for the second. You may add any number of the numbers together.\n",
      "\n",
      "\n",
      "The Indices: [0, 1, 2, 3, 4, 5, 6, 7]\n",
      "Input your two sets (lists) of number indices to be weighed, one at a time. They should look like this - XXXX - and may be up to 8 long. The X's represent the indices of the number in the list of numbers.\n"
     ]
    },
    {
     "name": "stdin",
     "output_type": "stream",
     "text": [
      "First set of numbers to add:  0123\n",
      "Second set of numbers to add:  4567\n"
     ]
    },
    {
     "name": "stdout",
     "output_type": "stream",
     "text": [
      "The first set of numbers, ['0', '1', '2', '3'] has a larger sum than the second set of numbers, ['4', '5', '6', '7']\n",
      "\n",
      "The Indices: [0, 1, 2, 3, 4, 5, 6, 7]\n",
      "Input your two sets (lists) of number indices to be weighed, one at a time. They should look like this - XXXX - and may be up to 8 long. The X's represent the indices of the number in the list of numbers.\n"
     ]
    },
    {
     "name": "stdin",
     "output_type": "stream",
     "text": [
      "First set of numbers to add:  01\n",
      "Second set of numbers to add:  23\n"
     ]
    },
    {
     "name": "stdout",
     "output_type": "stream",
     "text": [
      "The first set of numbers, ['0', '1'] has a smaller sum than the second set of numbers, ['2', '3']\n"
     ]
    },
    {
     "name": "stdin",
     "output_type": "stream",
     "text": [
      "Enter your answer for the index of the one larger number.\n",
      "If you would like to skip your guess and try again, enter anything but a number\n",
      " 3\n"
     ]
    },
    {
     "name": "stdout",
     "output_type": "stream",
     "text": [
      "\n",
      "Repairing list....\n",
      "Repair successful, access granted...\n",
      "The next character is Y\n",
      "To begin the next challenge, input heist.fuseBypass.start()\n"
     ]
    }
   ],
   "source": [
    "heist.numberPatch.start()"
   ]
  },
  {
   "cell_type": "markdown",
   "metadata": {},
   "source": [
    "### Task 4:\n",
    "\n",
    "**Notes:**"
   ]
  },
  {
   "cell_type": "code",
   "execution_count": 19,
   "metadata": {},
   "outputs": [
    {
     "name": "stdout",
     "output_type": "stream",
     "text": [
      "To unlock the next character in the password, we'll need to bypass a fuse in the computer system.\n",
      "The fuses are numbered 0-999. To test a fuse, you must enter which fuse to test in the parenthesis of heist.fuseBypass.test() and run.\n",
      "If you test a fuse higher than the target, the fuse will blow and the test will return False. If you test a fuse lower than the target, the test will return True\n",
      "You only get 2 blown fuses before you have to commit to the bypass.\n",
      "\n",
      "To bypass the target, run heist.fuseBypass.bypass()\n",
      "If you guess wrong, the system will reset, and the bypass fuse will change.\n",
      "\n",
      "Use what you know of python to write some code to help you test as many fuses as possible quickly. If you take too many attempts, \n",
      "the code will tell you whether or not you got the right fuse, but will make you try again to guess faster\n",
      "Good Luck!\n",
      "\n"
     ]
    }
   ],
   "source": [
    "heist.fuseBypass.start()"
   ]
  },
  {
   "cell_type": "code",
   "execution_count": 25,
   "metadata": {},
   "outputs": [
    {
     "name": "stdin",
     "output_type": "stream",
     "text": [
      "Input the target fuse:  363\n"
     ]
    },
    {
     "name": "stdout",
     "output_type": "stream",
     "text": [
      "Correct fuse bypass detected....\n",
      "\n",
      "Authorization verified. Bypassing...\n",
      "\n",
      "The next character is 7\n",
      "Now, you must unscramble the characters to find the passcode. Enter the password into the parenthesis in heist.access(). If you guess the password correctly, it will return 'True', otherwise it will return 'False'.\n",
      "You may have to write some code to guess the correct combination\n"
     ]
    }
   ],
   "source": [
    "heist.fuseBypass.bypass()"
   ]
  },
  {
   "cell_type": "markdown",
   "metadata": {},
   "source": [
    "### Enter Acess Key:\n",
    "\n",
    "**Notes:**"
   ]
  },
  {
   "cell_type": "code",
   "execution_count": 54,
   "metadata": {},
   "outputs": [
    {
     "name": "stdout",
     "output_type": "stream",
     "text": [
      "Password authentication complete...\n",
      "Retrieving data...\n",
      ".\n",
      "\n",
      ".\n",
      "\n",
      ".\n",
      "\n",
      "\n",
      "Congratulations! You've successfully unlocked the vault. Don't spoil the Rickroll for anyone else ;)\n"
     ]
    }
   ],
   "source": [
    "\n",
    "\n",
    "a = (\"7\",\"Y\",\"5\",\"&\",\"G\",\"L\",\"8\",\"T\")\n",
    "\n",
    "for i in range(0,8):\n",
    "    for j in range(0,8):\n",
    "        if a[i] == a[j]:\n",
    "            continue\n",
    "        for k in range(0,8):\n",
    "            if a[i] == a[j] or a[i] == a[k] or a[k] == a[j]:\n",
    "                continue\n",
    "            for l in range(0,8):\n",
    "                if a[i] == a[l] or a[j] == a[l] or a[k] == a[l]:\n",
    "                    continue\n",
    "                for p in range(0,8):\n",
    "                    if a[i] == a[p] or a[j] == a[p] or a[k] == a[p] or a[l] == a[p]:\n",
    "                        continue\n",
    "                    for b in range(0,8):\n",
    "                        if a[i] == a[b] or a[j] == a[b] or a[k] == a[b] or a[l] == a[b] or a[p] == a[b]:\n",
    "                            continue\n",
    "                        for c in range(0,8):\n",
    "                            if a[i] == a[c] or a[j] == a[c] or a[k] == a[c] or a[l] == a[c] or a[p] == a[c] or a[b]==a[c]:\n",
    "                                continue\n",
    "                            for d in range(0,8):\n",
    "                                if a[i] == a[d] or a[j] == a[d] or a[k] == a[d] or a[l] == a[d] or a[p] == a[d] or a[b]==a[d] or a[c]==a[d]:\n",
    "                                    continue\n",
    "                                password = a[i]+a[j]+a[k]+a[l]+a[p]+a[b]+a[c]+a[d]\n",
    "                                heist.access(password)\n",
    "\n",
    "                \n",
    "                \n",
    "                \n",
    "                "
   ]
  },
  {
   "cell_type": "code",
   "execution_count": null,
   "metadata": {},
   "outputs": [],
   "source": []
  },
  {
   "cell_type": "code",
   "execution_count": null,
   "metadata": {},
   "outputs": [],
   "source": []
  }
 ],
 "metadata": {
  "kernelspec": {
   "display_name": "Python 3",
   "language": "python",
   "name": "python3"
  },
  "language_info": {
   "codemirror_mode": {
    "name": "ipython",
    "version": 3
   },
   "file_extension": ".py",
   "mimetype": "text/x-python",
   "name": "python",
   "nbconvert_exporter": "python",
   "pygments_lexer": "ipython3",
   "version": "3.8.3"
  }
 },
 "nbformat": 4,
 "nbformat_minor": 4
}

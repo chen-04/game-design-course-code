{
 "cells": [
  {
   "cell_type": "code",
   "execution_count": null,
   "metadata": {},
   "outputs": [],
   "source": []
  },
  {
   "cell_type": "markdown",
   "metadata": {},
   "source": [
    "# Lesson 1.5 - Escape the Island Extension with Classes and Methods\n",
    "\n",
    "During yesterday's Activity, we added a Game Controller loop to interact with our Island Tiles in order to make the game run. This loop used the concepts we've explored in class so far, but did not use any of the Object Oriented concepts from yesterday besides leveraging the IslandTile class. Today, we're going to change that, and create a version of Escape the Island that runs outside of our Notebook - your first real app!\n",
    "\n",
    "## App format\n",
    "From here on out, we won't be using notebooks for lectures. Instead, we'll be working in the IDE together to create our games.\n",
    "\n",
    "So, the first thing we need to do is reformat the way our game is organized. We'll do this by creating new folders and files in the `Escape_the_Island_App` folder in the current directory. We'll borrow the skeleton code from yesterday's Activity to get us going, then make some modifications so that it runs like a real app.\n",
    "\n",
    "To get started, open your terminal (ctrl/cmd + shift + ~) and cd into the directory:\n",
    "\n",
    "`cd Escape_the_Island_App`"
   ]
  },
  {
   "cell_type": "code",
   "execution_count": null,
   "metadata": {},
   "outputs": [],
   "source": []
  }
 ],
 "metadata": {
  "interpreter": {
   "hash": "2501a11da06b4af3b297d00f3b3a44f3a9b21649d06de7879c05f261575933a8"
  },
  "kernelspec": {
   "display_name": "Python 3",
   "language": "python",
   "name": "python3"
  },
  "language_info": {
   "codemirror_mode": {
    "name": "ipython",
    "version": 3
   },
   "file_extension": ".py",
   "mimetype": "text/x-python",
   "name": "python",
   "nbconvert_exporter": "python",
   "pygments_lexer": "ipython3",
   "version": "3.8.3"
  }
 },
 "nbformat": 4,
 "nbformat_minor": 2
}
